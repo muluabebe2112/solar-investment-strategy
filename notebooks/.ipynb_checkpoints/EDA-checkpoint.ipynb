{
 "cells": [
  {
   "cell_type": "code",
   "execution_count": null,
   "metadata": {},
   "outputs": [],
   "source": [
    "import pandas as pd\n",
    "import os\n",
    "\n",
    "# Define the directory path where your data files are stored\n",
    "data_folder = './data'\n",
    "\n",
    "# Define the paths for the individual CSV files\n",
    "benin_file = os.path.join(data_folder, 'benin-malanville.csv')\n",
    "sierraleone_file = os.path.join(data_folder, 'sierraleone-bumbuna.csv')\n",
    "togo_file = os.path.join(data_folder, 'togo-dapaong_qc.csv')\n",
    "\n",
    "# Read the CSV files into pandas DataFrames\n",
    "benin_df = pd.read_csv(benin_file)\n",
    "sierraleone_df = pd.read_csv(sierraleone_file)\n",
    "togo_df = pd.read_csv(togo_file)\n",
    "\n",
    "# Print the first few rows of each DataFrame to verify the data\n",
    "print(\"Benin Data:\")\n",
    "print(benin_df.head())\n",
    "\n",
    "print(\"\\nSierra Leone Data:\")\n",
    "print(sierraleone_df.head())\n",
    "\n",
    "print(\"\\nTogo Data:\")\n",
    "print(togo_df.head())\n"
   ]
  },
  {
   "cell_type": "code",
   "execution_count": null,
   "metadata": {},
   "outputs": [],
   "source": []
  }
 ],
 "metadata": {
  "kernelspec": {
   "display_name": "base",
   "language": "python",
   "name": "python3"
  },
  "language_info": {
   "name": "python",
   "version": "3.12.4"
  }
 },
 "nbformat": 4,
 "nbformat_minor": 2
}
